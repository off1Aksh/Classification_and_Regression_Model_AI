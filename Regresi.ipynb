{
 "cells": [
  {
   "cell_type": "code",
   "execution_count": 46,
   "id": "3dc4c773",
   "metadata": {},
   "outputs": [],
   "source": [
    "import pandas as pd\n",
    "import numpy as np \n",
    "import matplotlib.pyplot as plt \n",
    "import seaborn as sns\n",
    "import linecache"
   ]
  },
  {
   "cell_type": "code",
   "execution_count": 47,
   "id": "4303370d",
   "metadata": {},
   "outputs": [],
   "source": [
    "df = pd.read_csv('Mobile phone price.csv')"
   ]
  },
  {
   "cell_type": "code",
   "execution_count": 48,
   "id": "c0ccd47d",
   "metadata": {},
   "outputs": [
    {
     "data": {
      "text/html": [
       "<div>\n",
       "<style scoped>\n",
       "    .dataframe tbody tr th:only-of-type {\n",
       "        vertical-align: middle;\n",
       "    }\n",
       "\n",
       "    .dataframe tbody tr th {\n",
       "        vertical-align: top;\n",
       "    }\n",
       "\n",
       "    .dataframe thead th {\n",
       "        text-align: right;\n",
       "    }\n",
       "</style>\n",
       "<table border=\"1\" class=\"dataframe\">\n",
       "  <thead>\n",
       "    <tr style=\"text-align: right;\">\n",
       "      <th></th>\n",
       "      <th>Brand</th>\n",
       "      <th>Model</th>\n",
       "      <th>Storage</th>\n",
       "      <th>RAM</th>\n",
       "      <th>Screen Size (inches)</th>\n",
       "      <th>Camera (MP)</th>\n",
       "      <th>Battery Capacity (mAh)</th>\n",
       "      <th>Price ($)</th>\n",
       "    </tr>\n",
       "  </thead>\n",
       "  <tbody>\n",
       "    <tr>\n",
       "      <th>0</th>\n",
       "      <td>Apple</td>\n",
       "      <td>iPhone 13 Pro</td>\n",
       "      <td>128 GB</td>\n",
       "      <td>6 GB</td>\n",
       "      <td>6.1</td>\n",
       "      <td>12 + 12 + 12</td>\n",
       "      <td>3095</td>\n",
       "      <td>999</td>\n",
       "    </tr>\n",
       "    <tr>\n",
       "      <th>1</th>\n",
       "      <td>Samsung</td>\n",
       "      <td>Galaxy S21 Ultra</td>\n",
       "      <td>256 GB</td>\n",
       "      <td>12 GB</td>\n",
       "      <td>6.8</td>\n",
       "      <td>108 + 10 + 10 + 12</td>\n",
       "      <td>5000</td>\n",
       "      <td>1199</td>\n",
       "    </tr>\n",
       "    <tr>\n",
       "      <th>2</th>\n",
       "      <td>OnePlus</td>\n",
       "      <td>9 Pro</td>\n",
       "      <td>128 GB</td>\n",
       "      <td>8 GB</td>\n",
       "      <td>6.7</td>\n",
       "      <td>48 + 50 + 8 + 2</td>\n",
       "      <td>4500</td>\n",
       "      <td>899</td>\n",
       "    </tr>\n",
       "    <tr>\n",
       "      <th>3</th>\n",
       "      <td>Xiaomi</td>\n",
       "      <td>Redmi Note 10 Pro</td>\n",
       "      <td>128 GB</td>\n",
       "      <td>6 GB</td>\n",
       "      <td>6.67</td>\n",
       "      <td>64 + 8 + 5 + 2</td>\n",
       "      <td>5020</td>\n",
       "      <td>279</td>\n",
       "    </tr>\n",
       "    <tr>\n",
       "      <th>4</th>\n",
       "      <td>Google</td>\n",
       "      <td>Pixel 6</td>\n",
       "      <td>128 GB</td>\n",
       "      <td>8 GB</td>\n",
       "      <td>6.4</td>\n",
       "      <td>50 + 12.2</td>\n",
       "      <td>4614</td>\n",
       "      <td>799</td>\n",
       "    </tr>\n",
       "  </tbody>\n",
       "</table>\n",
       "</div>"
      ],
      "text/plain": [
       "     Brand              Model Storage    RAM  Screen Size (inches)  \\\n",
       "0    Apple      iPhone 13 Pro   128 GB   6 GB                  6.1   \n",
       "1  Samsung   Galaxy S21 Ultra   256 GB  12 GB                  6.8   \n",
       "2  OnePlus              9 Pro   128 GB   8 GB                  6.7   \n",
       "3   Xiaomi  Redmi Note 10 Pro   128 GB   6 GB                 6.67   \n",
       "4   Google            Pixel 6   128 GB   8 GB                  6.4   \n",
       "\n",
       "          Camera (MP)  Battery Capacity (mAh) Price ($)  \n",
       "0        12 + 12 + 12                    3095       999  \n",
       "1  108 + 10 + 10 + 12                    5000      1199  \n",
       "2     48 + 50 + 8 + 2                    4500       899  \n",
       "3      64 + 8 + 5 + 2                    5020       279  \n",
       "4           50 + 12.2                    4614       799  "
      ]
     },
     "execution_count": 48,
     "metadata": {},
     "output_type": "execute_result"
    }
   ],
   "source": [
    "df.head()"
   ]
  },
  {
   "cell_type": "code",
   "execution_count": 49,
   "id": "fb1c6661",
   "metadata": {},
   "outputs": [
    {
     "name": "stdout",
     "output_type": "stream",
     "text": [
      "<class 'pandas.core.frame.DataFrame'>\n",
      "RangeIndex: 407 entries, 0 to 406\n",
      "Data columns (total 8 columns):\n",
      " #   Column                  Non-Null Count  Dtype \n",
      "---  ------                  --------------  ----- \n",
      " 0   Brand                   407 non-null    object\n",
      " 1   Model                   407 non-null    object\n",
      " 2   Storage                 407 non-null    object\n",
      " 3   RAM                     407 non-null    object\n",
      " 4   Screen Size (inches)    407 non-null    object\n",
      " 5   Camera (MP)             407 non-null    object\n",
      " 6   Battery Capacity (mAh)  407 non-null    int64 \n",
      " 7   Price ($)               407 non-null    object\n",
      "dtypes: int64(1), object(7)\n",
      "memory usage: 25.6+ KB\n"
     ]
    }
   ],
   "source": [
    "df.info()"
   ]
  },
  {
   "cell_type": "code",
   "execution_count": 50,
   "id": "2c02ba15",
   "metadata": {},
   "outputs": [
    {
     "data": {
      "text/plain": [
       "Brand                     0\n",
       "Model                     0\n",
       "Storage                   0\n",
       "RAM                       0\n",
       "Screen Size (inches)      0\n",
       "Camera (MP)               0\n",
       "Battery Capacity (mAh)    0\n",
       "Price ($)                 0\n",
       "dtype: int64"
      ]
     },
     "execution_count": 50,
     "metadata": {},
     "output_type": "execute_result"
    }
   ],
   "source": [
    "df.isna().sum()"
   ]
  },
  {
   "cell_type": "code",
   "execution_count": 51,
   "id": "13bcda1f",
   "metadata": {},
   "outputs": [
    {
     "name": "stdout",
     "output_type": "stream",
     "text": [
      "['$799 ', '$799 ', '$399 ', '$699 ', '$329 ', '$399 ', '$999 ', '$699 ', '$699 ', '$549 ', '$1,299 ', '$999 ', '$899 ', '$399 ', '$449 ', '$319 ', '$269 ', '$349 ', '$269 ', '$279 ', '$249 ', '$349 ', '$699 ', '$699 ', '$299 ', '$999 ', '$969 ', '$1,199 ', '$149 ', '$139 ', '$99 ', '$699 ', '$99 ', '$199 ', '$169 ', '$999 ', '$499 ', '$399 ', '$799 ', '$179 ', '$219 ', '$249 ', '$149 ', '$199 ', '$279 ', '$179 ', '$899 ', '$269 ', '$229 ', '$399 ', '$239 ', '$149 ', '$279 ', '$329 ', '$149 ', '$549 ', '$449 ', '$279 ', '$199 ', '$399 ', '$179 ', '$399 ', '$109 ', '$219 ', '$149 ', '$299 ', '$279 ', '$149 ', '$189 ', '$169 ', '$389 ', '$1,199 ', '$299 ', '$219 ', '$299 ', '$149 ', '$249 ', '$219 ', '$249 ', '$179 ', '$299 ', '$309 ', '$179 ', '$369 ', '$349 ', '$499 ', '$199 ', '$229 ', '$299 ', '$129 ', '$449 ', '$499 ', '$279 ', '$399 ', '$849 ', '$279 ', '$299 ', '$249 ', '$149 ', '$199 ', '$469 ', '$329 ', '$279 ', '$369 ', '$269 ', '$329 ', '$299 ', '$299 ', '$239 ', '$329 ', '$149 ', '$189 ', '$449 ', '$399 ', '$249 ', '$189 ', '$209 ', '$199 ', '$299 ', '$329 ', '$249 ', '$149 ', '$119 ', '$219 ', '$279 ', '$299 ', '$269 ', '$339 ', '$299 ', '$319 ', '$279 ', '$429 ', '$269 ', '$199 ', '$159 ', '$179 ', '$299 ', '$149 ', '$169 ', '$99 ', '$149 ', '$139 ', '$279 ', '$219 ', '$149 ', '$429 ', '$279 ', '$379 ', '$149 ', '$169 ', '$329 ', '$179 ', '$329 ', '$449 ', '$399 ', '$289 ', '$149 ', '$449 ', '$199 ', '$179 ', '$229 ', '$209 ', '$139 ', '$99 ', '$199 ', '$549 ', '$239 ', '$299 ', '$199 ', '$249 ', '$279 ', '$149 ', '$469 ', '$99 ', '$249 ', '$199 ', '$249 ', '$249 ', '$319 ', '$179 ', '$279 ', '$349 ', '$219 ', '$149 ', '$99 ', '$119 ', '$169 ', '$139 ', '$159 ', '$289 ', '$199 ', '$199 ', '$179 ', '$199 ', '$249 ', '$99 ', '$129 ', '$149 ', '$129 ', '$139 ', '$229 ', '$179 ', '$139 ', '$159 ', '$179 ', '$199 ', '$189 ', '$129 ', '$229 ', '$279 ']\n"
     ]
    }
   ],
   "source": [
    "y = [x for x in df['Price ($)'] if x.isnumeric() == False]\n",
    "print(y)"
   ]
  },
  {
   "cell_type": "code",
   "execution_count": 52,
   "id": "5e1945d3",
   "metadata": {},
   "outputs": [
    {
     "data": {
      "text/plain": [
       "'!\"#$%&\\'()*+,-./:;<=>?@[\\\\]^_`{|}~'"
      ]
     },
     "execution_count": 52,
     "metadata": {},
     "output_type": "execute_result"
    }
   ],
   "source": [
    "import string\n",
    "string.punctuation"
   ]
  },
  {
   "cell_type": "code",
   "execution_count": 53,
   "id": "9f6818b3",
   "metadata": {},
   "outputs": [],
   "source": [
    "def removing_punctuation_df(df, column_name):\n",
    "    \"\"\"\n",
    "    This function looks at a certain column. It then iterates through each row, first changing the object message\n",
    "    into a string. Then it checks for any punctuations in the message and gets rid of them. Then we take the\n",
    "    message and turn it into a integer and add it into a list.\n",
    "    \"\"\"\n",
    "    removed_df = []\n",
    "    for a in df[column_name]:\n",
    "        message = str(a)\n",
    "        punct_removed = [char for char in message if char not in string.punctuation]\n",
    "        punct_removed = ''.join(punct_removed)\n",
    "        punct_removed = int(punct_removed)\n",
    "        removed_df.append(punct_removed)\n",
    "    return removed_df"
   ]
  },
  {
   "cell_type": "code",
   "execution_count": 54,
   "id": "1897d65c",
   "metadata": {},
   "outputs": [],
   "source": [
    "Price = removing_punctuation_df(df, 'Price ($)') \n",
    "df['Price'] = Price\n",
    "df = df.drop(['Price ($)'], axis=1)"
   ]
  },
  {
   "cell_type": "code",
   "execution_count": 55,
   "id": "b1573745",
   "metadata": {},
   "outputs": [
    {
     "name": "stdout",
     "output_type": "stream",
     "text": [
      "<class 'pandas.core.frame.DataFrame'>\n",
      "RangeIndex: 407 entries, 0 to 406\n",
      "Data columns (total 8 columns):\n",
      " #   Column                  Non-Null Count  Dtype \n",
      "---  ------                  --------------  ----- \n",
      " 0   Brand                   407 non-null    object\n",
      " 1   Model                   407 non-null    object\n",
      " 2   Storage                 407 non-null    object\n",
      " 3   RAM                     407 non-null    object\n",
      " 4   Screen Size (inches)    407 non-null    object\n",
      " 5   Camera (MP)             407 non-null    object\n",
      " 6   Battery Capacity (mAh)  407 non-null    int64 \n",
      " 7   Price                   407 non-null    int64 \n",
      "dtypes: int64(2), object(6)\n",
      "memory usage: 25.6+ KB\n"
     ]
    }
   ],
   "source": [
    "df.info()"
   ]
  },
  {
   "cell_type": "code",
   "execution_count": 56,
   "id": "fdc8a2b3",
   "metadata": {},
   "outputs": [],
   "source": [
    "def isfloat(num):\n",
    "    try:\n",
    "        float(num)\n",
    "        return True\n",
    "    except ValueError:\n",
    "        return False"
   ]
  },
  {
   "cell_type": "code",
   "execution_count": 57,
   "id": "48412017",
   "metadata": {},
   "outputs": [
    {
     "name": "stdout",
     "output_type": "stream",
     "text": [
      "['6.8 + 3.9', '7.6 (unfolded)']\n"
     ]
    }
   ],
   "source": [
    "y = [x for x in df['Screen Size (inches)'] if isfloat(x) == False]\n",
    "print(y)"
   ]
  },
  {
   "cell_type": "code",
   "execution_count": 58,
   "id": "4fa93ce3",
   "metadata": {},
   "outputs": [
    {
     "name": "stdout",
     "output_type": "stream",
     "text": [
      "['128 GB', '256 GB', '128 GB', '128 GB', '128 GB', '128 GB', '256 GB', '128 GB', '128 GB', '256 GB', '128 GB', '128 GB', '128 GB', '64 GB', '256 GB', '128 GB', '128 GB', '128 GB', '128 GB', '128 GB', '128 GB', '128 GB', '128 GB', '128 GB', '128 GB', '64 GB', '32 GB', '128 GB', '32 GB', '128 GB', '128 GB', '128 GB', '64 GB', '128 GB', '128 GB', '128 GB', '128 GB', '128 GB', '64 GB', '64 GB', '64 GB', '64 GB', '64 GB', '128 GB', '128 GB', '64 GB', '128 GB', '128 GB', '64 GB', '64 GB', '128 GB', '256 GB', '64 GB', '32 GB', '128 GB', '128 GB', '128 GB', '256 GB', '128 GB', '128 GB', '128 GB', '64 GB', '64 GB', '128 GB', '128 GB', '128 GB', '128 GB', '128 GB', '64 GB', '128 GB', '128 GB', '128 GB', '128 GB', '128 GB', '128 GB', '256 GB', '64 GB', '128GB', '128GB', '128GB', '128GB', '128GB', '128GB', '256GB', '256GB', '256GB', '128GB', '128GB', '256GB', '256GB', '64GB', '128GB', '128GB', '128GB', '128GB', '128GB', '128GB', '64GB', '128GB', '128GB', '64GB', '32GB', '128GB', '256GB', '256GB', '32GB', '32GB', '32GB', '128GB', '32GB', '128GB', '64GB', '128GB', '128GB', '64GB', '256GB', '64GB', '128GB', '64GB', '64GB', '64GB', '128GB', '64GB', '128GB', '128GB', '128GB', '128GB', '128GB', '64GB', '128GB', '128GB', '64GB', '128GB', '128GB', '128GB', '64GB', '128GB', '64GB', '128GB', '32GB', '128GB', '32GB', '128GB', '128GB', '32GB', '128GB', '32GB', '128GB', '256GB', '128GB', '128GB', '64GB', '64GB', '128GB', '128GB', '128GB', '128GB', '128GB', '128GB', '128GB', '128GB', '128GB', '128GB', '64GB', '128GB', '128GB', '64GB', '128GB', '128GB', '128GB', '128GB', '256GB', '128GB', '128GB', '128GB', '128GB', '64GB', '128GB', '128GB', '128GB', '128GB', '128GB', '128GB', '128GB', '128GB', '128GB', '128GB', '128GB', '64GB', '128GB', '128GB', '128GB', '64GB', '128GB', '128GB', '128GB', '128GB', '128GB', '64GB', '64GB', '128GB', '128GB', '128GB', '128GB', '128GB', '128GB', '128GB', '128GB', '128GB', '128GB', '128GB', '128GB', '64GB', '128GB', '64GB', '64GB', '32GB', '32GB', '64GB', '128GB', '128GB', '32GB', '128GB', '128GB', '128GB', '32GB', '32GB', '128GB', '64GB', '128GB', '128GB', '128GB', '128GB', '64GB', '128GB', '128GB', '64GB', '128GB', '128GB', '64GB', '32GB', '128GB', '128GB', '128GB', '128GB', '64GB', '128GB', '128GB', '32GB', '128GB', '32GB', '128GB', '64GB', '64GB', '128GB', '128GB', '64GB', '64GB', '128GB', '128GB', '32GB', '32GB', '32GB', '64GB', '32GB', '64GB', '128GB', '64GB', '64GB', '64GB', '32GB', '64GB', '128GB', '32GB', '32GB', '64GB', '32GB', '64GB', '128GB', '64GB', '32GB', '64GB', '64GB', '128GB', '64GB', '32GB', '128GB', '64GB']\n"
     ]
    }
   ],
   "source": [
    "y = [x for x in df['Storage '] if x.isnumeric() == False]\n",
    "print(y)"
   ]
  },
  {
   "cell_type": "code",
   "execution_count": 59,
   "id": "2e93194d",
   "metadata": {},
   "outputs": [
    {
     "name": "stdout",
     "output_type": "stream",
     "text": [
      "['6 GB', '12 GB', '8 GB', '6 GB', '8 GB', '4 GB', '8 GB', '6 GB', '8 GB', '12 GB', '6 GB', '6 GB', '8 GB', '4 GB', '12 GB', '6 GB', '8 GB', '6 GB', '6 GB', '8 GB', '6 GB', '4 GB', '6 GB', '8 GB', '6 GB', '4 GB', '3 GB', '6 GB', '3 GB', '4 GB', '6 GB', '4 GB', '3 GB', '6 GB', '8 GB', '4 GB', '6 GB', '8 GB', '4 GB', '3 GB', '3 GB', '4 GB', '4 GB', '8 GB', '8 GB', '4 GB', '8 GB', '4 GB', '4 GB', '4 GB', '4 GB', '4 GB', '4 GB', '2 GB', '6 GB', '4 GB', '4 GB', '6 GB', '8 GB', '8 GB', '12 GB', '4 GB', '3 GB', '8 GB', '8 GB', '6 GB', '8 GB', '6 GB', '3 GB', '4 GB', '4 GB', '4 GB', '8 GB', '6 GB', '4 GB', '12 GB', '4 GB', '4GB', '8GB', '8GB', '8GB', '6GB', '8GB', '12GB', '12GB', '12GB', '6GB', '8GB', '8GB', '8GB', '4GB', '6GB', '6GB', '8GB', '8GB', '8GB', '6GB', '4GB', '6GB', '6GB', '6GB', '3GB', '8GB', '12GB', '12GB', '3GB', '3GB', '3GB', '6GB', '2GB', '6GB', '4GB', '8GB', '6GB', '6GB', '12GB', '4GB', '6GB', '4GB', '4GB', '4GB', '6GB', '4GB', '8GB', '6GB', '6GB', '6GB', '4GB', '3GB', '6GB', '8GB', '4GB', '6GB', '6GB', '8GB', '4GB', '5GB', '4GB', '8GB', '3GB', '4GB', '3GB', '6GB', '8GB', '3GB', '4GB', '3GB', '8GB', '12GB', '8GB', '4GB', '4GB', '4GB', '6GB', '4GB', '4GB', '4GB', '8GB', '8GB', '4GB', '8GB', '6GB', '6GB', '4GB', '6GB', '6GB', '3GB', '6GB', '8GB', '6GB', '5GB', '12GB', '6GB', '4GB', '6GB', '4GB', '4GB', '6GB', '8GB', '6GB', '8GB', '4GB', '6GB', '4GB', '6GB', '6GB', '6GB', '4GB', '4GB', '6GB', '8GB', '4GB', '4GB', '6GB', '8GB', '6GB', '4GB', '8GB', '4GB', '4GB', '4GB', '6GB', '6GB', '4GB', '8GB', '6GB', '6GB', '8GB', '8GB', '6GB', '6GB', '4GB', '4GB', '6GB', '4GB', '4GB', '2GB', '2GB', '4GB', '4GB', '6GB', '3GB', '8GB', '6GB', '6GB', '3GB', '3GB', '8GB', '4GB', '8GB', '6GB', '8GB', '8GB', '4GB', '6GB', '4GB', '4GB', '6GB', '6GB', '4GB', '3GB', '4GB', '12GB', '6GB', '8GB', '4GB', '6GB', '4GB', '3GB', '8GB', '2GB', '4GB', '4GB', '6GB', '6GB', '8GB', '3GB', '6GB', '8GB', '4GB', '3GB', '2GB', '2GB', '4GB', '3GB', '4GB', '8GB', '4GB', '3GB', '4GB', '3GB', '4GB', '8GB', '2GB', '2GB', '4GB', '2GB', '4GB', '6GB', '4GB', '3GB', '4GB', '4GB', '4GB', '4GB', '3GB', '4GB', '4GB']\n"
     ]
    }
   ],
   "source": [
    "y = [x for x in df['RAM '] if x.isnumeric() == False]\n",
    "print(y)"
   ]
  },
  {
   "cell_type": "code",
   "execution_count": 60,
   "id": "e957bc34",
   "metadata": {},
   "outputs": [],
   "source": [
    "df.iloc[88,4] = 6.8\n",
    "df.iloc[373,4] = 7.8"
   ]
  },
  {
   "cell_type": "code",
   "execution_count": 61,
   "id": "f7e31b3a",
   "metadata": {},
   "outputs": [],
   "source": [
    "df['Screen Size (in)'] = [float(size) for size in df['Screen Size (inches)']]\n",
    "df = df.drop('Screen Size (inches)', axis=1)"
   ]
  },
  {
   "cell_type": "code",
   "execution_count": 62,
   "id": "b412af0c",
   "metadata": {},
   "outputs": [],
   "source": [
    "def no_GBs(df, column):\n",
    "    y = []\n",
    "    for x in df[column]:\n",
    "        string = x.replace(\"GB\", \"\")\n",
    "        string = int(string)\n",
    "        y.append(string)\n",
    "    return y"
   ]
  },
  {
   "cell_type": "code",
   "execution_count": 63,
   "id": "efb83f9c",
   "metadata": {},
   "outputs": [],
   "source": [
    "RAM = no_GBs(df, \"RAM \")\n",
    "df['RAM'] = RAM\n",
    "df = df.drop('RAM ', axis=1)"
   ]
  },
  {
   "cell_type": "code",
   "execution_count": 64,
   "id": "8eb624af",
   "metadata": {},
   "outputs": [],
   "source": [
    "Storage = no_GBs(df, 'Storage ')\n",
    "df['Storage'] = Storage\n",
    "df = df.drop('Storage ', axis=1)"
   ]
  },
  {
   "cell_type": "code",
   "execution_count": 65,
   "id": "cf83f9ad",
   "metadata": {},
   "outputs": [],
   "source": [
    "df['Brand'] = df['Brand'].str.lower()\n",
    "df['Model'] = df['Model'].str.lower()"
   ]
  },
  {
   "cell_type": "code",
   "execution_count": 66,
   "id": "1a4e8bca",
   "metadata": {},
   "outputs": [],
   "source": [
    "df.rename(columns = {\"jumlah kamera\": \"JumlahKamera\",\"Battery Capacity (mAh)\": \"BatteryCapacity\",\"Screen Size (in)\": \"ScreenSize\"},inplace=True)"
   ]
  },
  {
   "cell_type": "code",
   "execution_count": 67,
   "id": "1e458ad2",
   "metadata": {},
   "outputs": [
    {
     "data": {
      "text/html": [
       "<div>\n",
       "<style scoped>\n",
       "    .dataframe tbody tr th:only-of-type {\n",
       "        vertical-align: middle;\n",
       "    }\n",
       "\n",
       "    .dataframe tbody tr th {\n",
       "        vertical-align: top;\n",
       "    }\n",
       "\n",
       "    .dataframe thead th {\n",
       "        text-align: right;\n",
       "    }\n",
       "</style>\n",
       "<table border=\"1\" class=\"dataframe\">\n",
       "  <thead>\n",
       "    <tr style=\"text-align: right;\">\n",
       "      <th></th>\n",
       "      <th>Brand</th>\n",
       "      <th>Model</th>\n",
       "      <th>Camera (MP)</th>\n",
       "      <th>BatteryCapacity</th>\n",
       "      <th>Price</th>\n",
       "      <th>ScreenSize</th>\n",
       "      <th>RAM</th>\n",
       "      <th>Storage</th>\n",
       "    </tr>\n",
       "  </thead>\n",
       "  <tbody>\n",
       "    <tr>\n",
       "      <th>0</th>\n",
       "      <td>apple</td>\n",
       "      <td>iphone 13 pro</td>\n",
       "      <td>12 + 12 + 12</td>\n",
       "      <td>3095</td>\n",
       "      <td>999</td>\n",
       "      <td>6.10</td>\n",
       "      <td>6</td>\n",
       "      <td>128</td>\n",
       "    </tr>\n",
       "    <tr>\n",
       "      <th>1</th>\n",
       "      <td>samsung</td>\n",
       "      <td>galaxy s21 ultra</td>\n",
       "      <td>108 + 10 + 10 + 12</td>\n",
       "      <td>5000</td>\n",
       "      <td>1199</td>\n",
       "      <td>6.80</td>\n",
       "      <td>12</td>\n",
       "      <td>256</td>\n",
       "    </tr>\n",
       "    <tr>\n",
       "      <th>2</th>\n",
       "      <td>oneplus</td>\n",
       "      <td>9 pro</td>\n",
       "      <td>48 + 50 + 8 + 2</td>\n",
       "      <td>4500</td>\n",
       "      <td>899</td>\n",
       "      <td>6.70</td>\n",
       "      <td>8</td>\n",
       "      <td>128</td>\n",
       "    </tr>\n",
       "    <tr>\n",
       "      <th>3</th>\n",
       "      <td>xiaomi</td>\n",
       "      <td>redmi note 10 pro</td>\n",
       "      <td>64 + 8 + 5 + 2</td>\n",
       "      <td>5020</td>\n",
       "      <td>279</td>\n",
       "      <td>6.67</td>\n",
       "      <td>6</td>\n",
       "      <td>128</td>\n",
       "    </tr>\n",
       "    <tr>\n",
       "      <th>4</th>\n",
       "      <td>google</td>\n",
       "      <td>pixel 6</td>\n",
       "      <td>50 + 12.2</td>\n",
       "      <td>4614</td>\n",
       "      <td>799</td>\n",
       "      <td>6.40</td>\n",
       "      <td>8</td>\n",
       "      <td>128</td>\n",
       "    </tr>\n",
       "  </tbody>\n",
       "</table>\n",
       "</div>"
      ],
      "text/plain": [
       "     Brand              Model         Camera (MP)  BatteryCapacity  Price  \\\n",
       "0    apple      iphone 13 pro        12 + 12 + 12             3095    999   \n",
       "1  samsung   galaxy s21 ultra  108 + 10 + 10 + 12             5000   1199   \n",
       "2  oneplus              9 pro     48 + 50 + 8 + 2             4500    899   \n",
       "3   xiaomi  redmi note 10 pro      64 + 8 + 5 + 2             5020    279   \n",
       "4   google            pixel 6           50 + 12.2             4614    799   \n",
       "\n",
       "   ScreenSize  RAM  Storage  \n",
       "0        6.10    6      128  \n",
       "1        6.80   12      256  \n",
       "2        6.70    8      128  \n",
       "3        6.67    6      128  \n",
       "4        6.40    8      128  "
      ]
     },
     "execution_count": 67,
     "metadata": {},
     "output_type": "execute_result"
    }
   ],
   "source": [
    "df.head()"
   ]
  },
  {
   "cell_type": "code",
   "execution_count": 68,
   "id": "7885955a",
   "metadata": {},
   "outputs": [],
   "source": [
    "df['JumlahKamera'] = df['Camera (MP)'].str.count('\\\\+') + 1"
   ]
  },
  {
   "cell_type": "code",
   "execution_count": 69,
   "id": "c1ef55cd",
   "metadata": {},
   "outputs": [
    {
     "data": {
      "text/plain": [
       "array([3, 4, 2, 1], dtype=int64)"
      ]
     },
     "execution_count": 69,
     "metadata": {},
     "output_type": "execute_result"
    }
   ],
   "source": [
    "df['JumlahKamera'].unique()"
   ]
  },
  {
   "cell_type": "code",
   "execution_count": 70,
   "id": "fe30a845",
   "metadata": {},
   "outputs": [
    {
     "data": {
      "text/html": [
       "<div>\n",
       "<style scoped>\n",
       "    .dataframe tbody tr th:only-of-type {\n",
       "        vertical-align: middle;\n",
       "    }\n",
       "\n",
       "    .dataframe tbody tr th {\n",
       "        vertical-align: top;\n",
       "    }\n",
       "\n",
       "    .dataframe thead th {\n",
       "        text-align: right;\n",
       "    }\n",
       "</style>\n",
       "<table border=\"1\" class=\"dataframe\">\n",
       "  <thead>\n",
       "    <tr style=\"text-align: right;\">\n",
       "      <th></th>\n",
       "      <th>Brand</th>\n",
       "      <th>Model</th>\n",
       "      <th>Camera (MP)</th>\n",
       "      <th>BatteryCapacity</th>\n",
       "      <th>Price</th>\n",
       "      <th>ScreenSize</th>\n",
       "      <th>RAM</th>\n",
       "      <th>Storage</th>\n",
       "      <th>JumlahKamera</th>\n",
       "    </tr>\n",
       "  </thead>\n",
       "  <tbody>\n",
       "    <tr>\n",
       "      <th>0</th>\n",
       "      <td>apple</td>\n",
       "      <td>iphone 13 pro</td>\n",
       "      <td>12 + 12 + 12</td>\n",
       "      <td>3095</td>\n",
       "      <td>999</td>\n",
       "      <td>6.10</td>\n",
       "      <td>6</td>\n",
       "      <td>128</td>\n",
       "      <td>3</td>\n",
       "    </tr>\n",
       "    <tr>\n",
       "      <th>1</th>\n",
       "      <td>samsung</td>\n",
       "      <td>galaxy s21 ultra</td>\n",
       "      <td>108 + 10 + 10 + 12</td>\n",
       "      <td>5000</td>\n",
       "      <td>1199</td>\n",
       "      <td>6.80</td>\n",
       "      <td>12</td>\n",
       "      <td>256</td>\n",
       "      <td>4</td>\n",
       "    </tr>\n",
       "    <tr>\n",
       "      <th>2</th>\n",
       "      <td>oneplus</td>\n",
       "      <td>9 pro</td>\n",
       "      <td>48 + 50 + 8 + 2</td>\n",
       "      <td>4500</td>\n",
       "      <td>899</td>\n",
       "      <td>6.70</td>\n",
       "      <td>8</td>\n",
       "      <td>128</td>\n",
       "      <td>4</td>\n",
       "    </tr>\n",
       "    <tr>\n",
       "      <th>3</th>\n",
       "      <td>xiaomi</td>\n",
       "      <td>redmi note 10 pro</td>\n",
       "      <td>64 + 8 + 5 + 2</td>\n",
       "      <td>5020</td>\n",
       "      <td>279</td>\n",
       "      <td>6.67</td>\n",
       "      <td>6</td>\n",
       "      <td>128</td>\n",
       "      <td>4</td>\n",
       "    </tr>\n",
       "    <tr>\n",
       "      <th>4</th>\n",
       "      <td>google</td>\n",
       "      <td>pixel 6</td>\n",
       "      <td>50 + 12.2</td>\n",
       "      <td>4614</td>\n",
       "      <td>799</td>\n",
       "      <td>6.40</td>\n",
       "      <td>8</td>\n",
       "      <td>128</td>\n",
       "      <td>2</td>\n",
       "    </tr>\n",
       "  </tbody>\n",
       "</table>\n",
       "</div>"
      ],
      "text/plain": [
       "     Brand              Model         Camera (MP)  BatteryCapacity  Price  \\\n",
       "0    apple      iphone 13 pro        12 + 12 + 12             3095    999   \n",
       "1  samsung   galaxy s21 ultra  108 + 10 + 10 + 12             5000   1199   \n",
       "2  oneplus              9 pro     48 + 50 + 8 + 2             4500    899   \n",
       "3   xiaomi  redmi note 10 pro      64 + 8 + 5 + 2             5020    279   \n",
       "4   google            pixel 6           50 + 12.2             4614    799   \n",
       "\n",
       "   ScreenSize  RAM  Storage  JumlahKamera  \n",
       "0        6.10    6      128             3  \n",
       "1        6.80   12      256             4  \n",
       "2        6.70    8      128             4  \n",
       "3        6.67    6      128             4  \n",
       "4        6.40    8      128             2  "
      ]
     },
     "execution_count": 70,
     "metadata": {},
     "output_type": "execute_result"
    }
   ],
   "source": [
    "df.head()"
   ]
  },
  {
   "cell_type": "code",
   "execution_count": 71,
   "id": "790f4fd9",
   "metadata": {},
   "outputs": [],
   "source": [
    "res1 = []\n",
    "res2 = []\n",
    "res3 = []\n",
    "res4 = []\n",
    "for x in df['Camera (MP)']:\n",
    "    resolutions = x.split('+')\n",
    "    tam = len(resolutions)\n",
    "    \n",
    "    if tam == 1:\n",
    "        res1.append(resolutions[0])\n",
    "        res2.append('0')\n",
    "        res3.append('0')\n",
    "        res4.append('0')\n",
    "    \n",
    "    if tam == 2:\n",
    "        res1.append(resolutions[0])\n",
    "        res2.append(resolutions[1])\n",
    "        res3.append('0')\n",
    "        res4.append('0')\n",
    "    \n",
    "    if tam == 3:\n",
    "        res1.append(resolutions[0])\n",
    "        res2.append(resolutions[1])\n",
    "        res3.append(resolutions[2])\n",
    "        res4.append('0')\n",
    "    \n",
    "    if tam == 4:\n",
    "        res1.append(resolutions[0])\n",
    "        res2.append(resolutions[1])\n",
    "        res3.append(resolutions[2])\n",
    "        res4.append(resolutions[3])\n",
    "    \n",
    "df['res1'] = res1\n",
    "df['res2'] = res2\n",
    "df['res3'] = res3\n",
    "df['res4'] = res4\n",
    "\n",
    "df = df.drop(columns='Camera (MP)')"
   ]
  },
  {
   "cell_type": "code",
   "execution_count": 72,
   "id": "423e17f6",
   "metadata": {},
   "outputs": [],
   "source": [
    "df.rename(columns = {\"res1\":\"cam1\",\"res2\":\"cam2\",\"res3\":\"cam3\",\"res4\":\"cam4\"},inplace=True)"
   ]
  },
  {
   "cell_type": "code",
   "execution_count": 73,
   "id": "554fe6db",
   "metadata": {},
   "outputs": [],
   "source": [
    "df['cam1'] = df['cam1'].str.replace('MP','')\n",
    "df['cam2'] = df['cam2'].str.replace('MP','')\n",
    "df['cam3'] = df['cam3'].str.replace('MP','')\n",
    "df['cam4'] = df['cam4'].str.replace('MP','')"
   ]
  },
  {
   "cell_type": "code",
   "execution_count": 74,
   "id": "62ae6541",
   "metadata": {},
   "outputs": [],
   "source": [
    "df['cam4'] = df['cam4'].str.replace('3D','0')\n",
    "df['cam4'] = df['cam4'].str.replace('ToF','0')"
   ]
  },
  {
   "cell_type": "code",
   "execution_count": 75,
   "id": "b64f595a",
   "metadata": {},
   "outputs": [],
   "source": [
    "df['cam1'] = pd.to_numeric(df['cam1'])\n",
    "\n",
    "df['cam2'] = pd.to_numeric(df['cam2'])\n",
    "\n",
    "df['cam3'] = pd.to_numeric(df['cam3'])\n",
    "\n",
    "df['cam4'] = pd.to_numeric(df['cam4'])"
   ]
  },
  {
   "cell_type": "code",
   "execution_count": 76,
   "id": "cbefd2c3",
   "metadata": {},
   "outputs": [
    {
     "name": "stdout",
     "output_type": "stream",
     "text": [
      "      Brand        Model  BatteryCapacity  Price  ScreenSize  RAM  Storage  \\\n",
      "292  huawei  mate 40 pro             4400   1199        6.76    8      256   \n",
      "\n",
      "     JumlahKamera  cam1  cam2  cam3  cam4  \n",
      "292             4  50.0  20.0    12   0.0  \n"
     ]
    }
   ],
   "source": [
    "print(df[292:293])"
   ]
  },
  {
   "cell_type": "code",
   "execution_count": 77,
   "id": "0b81f3c3",
   "metadata": {},
   "outputs": [
    {
     "data": {
      "text/html": [
       "<div>\n",
       "<style scoped>\n",
       "    .dataframe tbody tr th:only-of-type {\n",
       "        vertical-align: middle;\n",
       "    }\n",
       "\n",
       "    .dataframe tbody tr th {\n",
       "        vertical-align: top;\n",
       "    }\n",
       "\n",
       "    .dataframe thead th {\n",
       "        text-align: right;\n",
       "    }\n",
       "</style>\n",
       "<table border=\"1\" class=\"dataframe\">\n",
       "  <thead>\n",
       "    <tr style=\"text-align: right;\">\n",
       "      <th></th>\n",
       "      <th>Brand</th>\n",
       "      <th>Model</th>\n",
       "      <th>BatteryCapacity</th>\n",
       "      <th>Price</th>\n",
       "      <th>ScreenSize</th>\n",
       "      <th>RAM</th>\n",
       "      <th>Storage</th>\n",
       "      <th>JumlahKamera</th>\n",
       "      <th>cam1</th>\n",
       "      <th>cam2</th>\n",
       "      <th>cam3</th>\n",
       "      <th>cam4</th>\n",
       "    </tr>\n",
       "  </thead>\n",
       "  <tbody>\n",
       "    <tr>\n",
       "      <th>0</th>\n",
       "      <td>apple</td>\n",
       "      <td>iphone 13 pro</td>\n",
       "      <td>3095</td>\n",
       "      <td>999</td>\n",
       "      <td>6.10</td>\n",
       "      <td>6</td>\n",
       "      <td>128</td>\n",
       "      <td>3</td>\n",
       "      <td>12.0</td>\n",
       "      <td>12.0</td>\n",
       "      <td>12</td>\n",
       "      <td>0.0</td>\n",
       "    </tr>\n",
       "    <tr>\n",
       "      <th>1</th>\n",
       "      <td>samsung</td>\n",
       "      <td>galaxy s21 ultra</td>\n",
       "      <td>5000</td>\n",
       "      <td>1199</td>\n",
       "      <td>6.80</td>\n",
       "      <td>12</td>\n",
       "      <td>256</td>\n",
       "      <td>4</td>\n",
       "      <td>108.0</td>\n",
       "      <td>10.0</td>\n",
       "      <td>10</td>\n",
       "      <td>12.0</td>\n",
       "    </tr>\n",
       "    <tr>\n",
       "      <th>2</th>\n",
       "      <td>oneplus</td>\n",
       "      <td>9 pro</td>\n",
       "      <td>4500</td>\n",
       "      <td>899</td>\n",
       "      <td>6.70</td>\n",
       "      <td>8</td>\n",
       "      <td>128</td>\n",
       "      <td>4</td>\n",
       "      <td>48.0</td>\n",
       "      <td>50.0</td>\n",
       "      <td>8</td>\n",
       "      <td>2.0</td>\n",
       "    </tr>\n",
       "    <tr>\n",
       "      <th>3</th>\n",
       "      <td>xiaomi</td>\n",
       "      <td>redmi note 10 pro</td>\n",
       "      <td>5020</td>\n",
       "      <td>279</td>\n",
       "      <td>6.67</td>\n",
       "      <td>6</td>\n",
       "      <td>128</td>\n",
       "      <td>4</td>\n",
       "      <td>64.0</td>\n",
       "      <td>8.0</td>\n",
       "      <td>5</td>\n",
       "      <td>2.0</td>\n",
       "    </tr>\n",
       "    <tr>\n",
       "      <th>4</th>\n",
       "      <td>google</td>\n",
       "      <td>pixel 6</td>\n",
       "      <td>4614</td>\n",
       "      <td>799</td>\n",
       "      <td>6.40</td>\n",
       "      <td>8</td>\n",
       "      <td>128</td>\n",
       "      <td>2</td>\n",
       "      <td>50.0</td>\n",
       "      <td>12.2</td>\n",
       "      <td>0</td>\n",
       "      <td>0.0</td>\n",
       "    </tr>\n",
       "  </tbody>\n",
       "</table>\n",
       "</div>"
      ],
      "text/plain": [
       "     Brand              Model  BatteryCapacity  Price  ScreenSize  RAM  \\\n",
       "0    apple      iphone 13 pro             3095    999        6.10    6   \n",
       "1  samsung   galaxy s21 ultra             5000   1199        6.80   12   \n",
       "2  oneplus              9 pro             4500    899        6.70    8   \n",
       "3   xiaomi  redmi note 10 pro             5020    279        6.67    6   \n",
       "4   google            pixel 6             4614    799        6.40    8   \n",
       "\n",
       "   Storage  JumlahKamera   cam1  cam2  cam3  cam4  \n",
       "0      128             3   12.0  12.0    12   0.0  \n",
       "1      256             4  108.0  10.0    10  12.0  \n",
       "2      128             4   48.0  50.0     8   2.0  \n",
       "3      128             4   64.0   8.0     5   2.0  \n",
       "4      128             2   50.0  12.2     0   0.0  "
      ]
     },
     "execution_count": 77,
     "metadata": {},
     "output_type": "execute_result"
    }
   ],
   "source": [
    "df.head()"
   ]
  },
  {
   "cell_type": "code",
   "execution_count": 78,
   "id": "b1cd1bd8",
   "metadata": {},
   "outputs": [
    {
     "name": "stdout",
     "output_type": "stream",
     "text": [
      "<class 'pandas.core.frame.DataFrame'>\n",
      "RangeIndex: 407 entries, 0 to 406\n",
      "Data columns (total 12 columns):\n",
      " #   Column           Non-Null Count  Dtype  \n",
      "---  ------           --------------  -----  \n",
      " 0   Brand            407 non-null    object \n",
      " 1   Model            407 non-null    object \n",
      " 2   BatteryCapacity  407 non-null    int64  \n",
      " 3   Price            407 non-null    int64  \n",
      " 4   ScreenSize       407 non-null    float64\n",
      " 5   RAM              407 non-null    int64  \n",
      " 6   Storage          407 non-null    int64  \n",
      " 7   JumlahKamera     407 non-null    int64  \n",
      " 8   cam1             407 non-null    float64\n",
      " 9   cam2             407 non-null    float64\n",
      " 10  cam3             407 non-null    int64  \n",
      " 11  cam4             407 non-null    float64\n",
      "dtypes: float64(4), int64(6), object(2)\n",
      "memory usage: 38.3+ KB\n"
     ]
    }
   ],
   "source": [
    "df.info()"
   ]
  },
  {
   "cell_type": "code",
   "execution_count": 79,
   "id": "82a0f506",
   "metadata": {},
   "outputs": [],
   "source": [
    "df['idBrand']=df.loc[:,'Brand']"
   ]
  },
  {
   "cell_type": "code",
   "execution_count": 80,
   "id": "e7e8d317",
   "metadata": {},
   "outputs": [],
   "source": [
    "df['idBrand']=df['idBrand'].replace(['cat','sony','blackberry','lg','asus','google','huawei','oneplus','motorola','nokia','apple','vivo','realme','oppo','xiaomi','samsung'],['001','002','003','004','005','006','007','008','009','010','011','012','013','014','015','016'])\n",
    "df[['idBrand']]=df[['idBrand']].apply(pd.to_numeric)"
   ]
  },
  {
   "cell_type": "code",
   "execution_count": 81,
   "id": "69176db1",
   "metadata": {},
   "outputs": [
    {
     "data": {
      "text/html": [
       "<div>\n",
       "<style scoped>\n",
       "    .dataframe tbody tr th:only-of-type {\n",
       "        vertical-align: middle;\n",
       "    }\n",
       "\n",
       "    .dataframe tbody tr th {\n",
       "        vertical-align: top;\n",
       "    }\n",
       "\n",
       "    .dataframe thead th {\n",
       "        text-align: right;\n",
       "    }\n",
       "</style>\n",
       "<table border=\"1\" class=\"dataframe\">\n",
       "  <thead>\n",
       "    <tr style=\"text-align: right;\">\n",
       "      <th></th>\n",
       "      <th>Brand</th>\n",
       "      <th>Model</th>\n",
       "      <th>BatteryCapacity</th>\n",
       "      <th>Price</th>\n",
       "      <th>ScreenSize</th>\n",
       "      <th>RAM</th>\n",
       "      <th>Storage</th>\n",
       "      <th>JumlahKamera</th>\n",
       "      <th>cam1</th>\n",
       "      <th>cam2</th>\n",
       "      <th>cam3</th>\n",
       "      <th>cam4</th>\n",
       "      <th>idBrand</th>\n",
       "    </tr>\n",
       "  </thead>\n",
       "  <tbody>\n",
       "    <tr>\n",
       "      <th>0</th>\n",
       "      <td>apple</td>\n",
       "      <td>iphone 13 pro</td>\n",
       "      <td>3095</td>\n",
       "      <td>999</td>\n",
       "      <td>6.10</td>\n",
       "      <td>6</td>\n",
       "      <td>128</td>\n",
       "      <td>3</td>\n",
       "      <td>12.0</td>\n",
       "      <td>12.0</td>\n",
       "      <td>12</td>\n",
       "      <td>0.0</td>\n",
       "      <td>11</td>\n",
       "    </tr>\n",
       "    <tr>\n",
       "      <th>1</th>\n",
       "      <td>samsung</td>\n",
       "      <td>galaxy s21 ultra</td>\n",
       "      <td>5000</td>\n",
       "      <td>1199</td>\n",
       "      <td>6.80</td>\n",
       "      <td>12</td>\n",
       "      <td>256</td>\n",
       "      <td>4</td>\n",
       "      <td>108.0</td>\n",
       "      <td>10.0</td>\n",
       "      <td>10</td>\n",
       "      <td>12.0</td>\n",
       "      <td>16</td>\n",
       "    </tr>\n",
       "    <tr>\n",
       "      <th>2</th>\n",
       "      <td>oneplus</td>\n",
       "      <td>9 pro</td>\n",
       "      <td>4500</td>\n",
       "      <td>899</td>\n",
       "      <td>6.70</td>\n",
       "      <td>8</td>\n",
       "      <td>128</td>\n",
       "      <td>4</td>\n",
       "      <td>48.0</td>\n",
       "      <td>50.0</td>\n",
       "      <td>8</td>\n",
       "      <td>2.0</td>\n",
       "      <td>8</td>\n",
       "    </tr>\n",
       "    <tr>\n",
       "      <th>3</th>\n",
       "      <td>xiaomi</td>\n",
       "      <td>redmi note 10 pro</td>\n",
       "      <td>5020</td>\n",
       "      <td>279</td>\n",
       "      <td>6.67</td>\n",
       "      <td>6</td>\n",
       "      <td>128</td>\n",
       "      <td>4</td>\n",
       "      <td>64.0</td>\n",
       "      <td>8.0</td>\n",
       "      <td>5</td>\n",
       "      <td>2.0</td>\n",
       "      <td>15</td>\n",
       "    </tr>\n",
       "    <tr>\n",
       "      <th>4</th>\n",
       "      <td>google</td>\n",
       "      <td>pixel 6</td>\n",
       "      <td>4614</td>\n",
       "      <td>799</td>\n",
       "      <td>6.40</td>\n",
       "      <td>8</td>\n",
       "      <td>128</td>\n",
       "      <td>2</td>\n",
       "      <td>50.0</td>\n",
       "      <td>12.2</td>\n",
       "      <td>0</td>\n",
       "      <td>0.0</td>\n",
       "      <td>6</td>\n",
       "    </tr>\n",
       "  </tbody>\n",
       "</table>\n",
       "</div>"
      ],
      "text/plain": [
       "     Brand              Model  BatteryCapacity  Price  ScreenSize  RAM  \\\n",
       "0    apple      iphone 13 pro             3095    999        6.10    6   \n",
       "1  samsung   galaxy s21 ultra             5000   1199        6.80   12   \n",
       "2  oneplus              9 pro             4500    899        6.70    8   \n",
       "3   xiaomi  redmi note 10 pro             5020    279        6.67    6   \n",
       "4   google            pixel 6             4614    799        6.40    8   \n",
       "\n",
       "   Storage  JumlahKamera   cam1  cam2  cam3  cam4  idBrand  \n",
       "0      128             3   12.0  12.0    12   0.0       11  \n",
       "1      256             4  108.0  10.0    10  12.0       16  \n",
       "2      128             4   48.0  50.0     8   2.0        8  \n",
       "3      128             4   64.0   8.0     5   2.0       15  \n",
       "4      128             2   50.0  12.2     0   0.0        6  "
      ]
     },
     "execution_count": 81,
     "metadata": {},
     "output_type": "execute_result"
    }
   ],
   "source": [
    "df.head()"
   ]
  },
  {
   "cell_type": "code",
   "execution_count": 82,
   "id": "9d670875",
   "metadata": {},
   "outputs": [
    {
     "name": "stdout",
     "output_type": "stream",
     "text": [
      "<class 'pandas.core.frame.DataFrame'>\n",
      "RangeIndex: 407 entries, 0 to 406\n",
      "Data columns (total 13 columns):\n",
      " #   Column           Non-Null Count  Dtype  \n",
      "---  ------           --------------  -----  \n",
      " 0   Brand            407 non-null    object \n",
      " 1   Model            407 non-null    object \n",
      " 2   BatteryCapacity  407 non-null    int64  \n",
      " 3   Price            407 non-null    int64  \n",
      " 4   ScreenSize       407 non-null    float64\n",
      " 5   RAM              407 non-null    int64  \n",
      " 6   Storage          407 non-null    int64  \n",
      " 7   JumlahKamera     407 non-null    int64  \n",
      " 8   cam1             407 non-null    float64\n",
      " 9   cam2             407 non-null    float64\n",
      " 10  cam3             407 non-null    int64  \n",
      " 11  cam4             407 non-null    float64\n",
      " 12  idBrand          407 non-null    int64  \n",
      "dtypes: float64(4), int64(7), object(2)\n",
      "memory usage: 41.5+ KB\n"
     ]
    }
   ],
   "source": [
    "df.info()"
   ]
  },
  {
   "cell_type": "code",
   "execution_count": 83,
   "id": "8c35df59",
   "metadata": {},
   "outputs": [
    {
     "name": "stdout",
     "output_type": "stream",
     "text": [
      "<class 'pandas.core.frame.DataFrame'>\n",
      "RangeIndex: 407 entries, 0 to 406\n",
      "Data columns (total 13 columns):\n",
      " #   Column           Non-Null Count  Dtype  \n",
      "---  ------           --------------  -----  \n",
      " 0   Brand            407 non-null    object \n",
      " 1   Model            407 non-null    object \n",
      " 2   BatteryCapacity  407 non-null    int64  \n",
      " 3   Price            407 non-null    int64  \n",
      " 4   ScreenSize       407 non-null    float64\n",
      " 5   RAM              407 non-null    int64  \n",
      " 6   Storage          407 non-null    int64  \n",
      " 7   JumlahKamera     407 non-null    int64  \n",
      " 8   cam1             407 non-null    float64\n",
      " 9   cam2             407 non-null    float64\n",
      " 10  cam3             407 non-null    int64  \n",
      " 11  cam4             407 non-null    float64\n",
      " 12  idBrand          407 non-null    int64  \n",
      "dtypes: float64(4), int64(7), object(2)\n",
      "memory usage: 41.5+ KB\n",
      "None\n",
      "       BatteryCapacity        Price  ScreenSize         RAM     Storage  \\\n",
      "count       407.000000   407.000000  407.000000  407.000000  407.000000   \n",
      "mean       4676.476658   408.314496    6.471744    5.837838  123.046683   \n",
      "std         797.193713   299.684768    0.322425    2.431980   64.963160   \n",
      "min        1821.000000    99.000000    4.500000    2.000000   32.000000   \n",
      "25%        4300.000000   199.000000    6.440000    4.000000   64.000000   \n",
      "50%        5000.000000   299.000000    6.500000    6.000000  128.000000   \n",
      "75%        5000.000000   499.000000    6.590000    8.000000  128.000000   \n",
      "max        7000.000000  1999.000000    7.800000   16.000000  512.000000   \n",
      "\n",
      "       JumlahKamera        cam1        cam2        cam3        cam4  \\\n",
      "count    407.000000  407.000000  407.000000  407.000000  407.000000   \n",
      "mean       3.144963   43.319410    9.125799    3.641278    0.983538   \n",
      "std        0.785408   24.669025   10.174802    4.902906    1.719477   \n",
      "min        1.000000    8.000000    0.000000    0.000000    0.000000   \n",
      "25%        3.000000   13.000000    2.000000    2.000000    0.000000   \n",
      "50%        3.000000   48.000000    8.000000    2.000000    0.000000   \n",
      "75%        4.000000   64.000000   12.000000    5.000000    2.000000   \n",
      "max        4.000000  108.000000   64.000000   48.000000   12.000000   \n",
      "\n",
      "          idBrand  \n",
      "count  407.000000  \n",
      "mean    12.626536  \n",
      "std      3.125942  \n",
      "min      1.000000  \n",
      "25%     11.000000  \n",
      "50%     13.000000  \n",
      "75%     15.000000  \n",
      "max     16.000000  \n",
      "Brand              0\n",
      "Model              0\n",
      "BatteryCapacity    0\n",
      "Price              0\n",
      "ScreenSize         0\n",
      "RAM                0\n",
      "Storage            0\n",
      "JumlahKamera       0\n",
      "cam1               0\n",
      "cam2               0\n",
      "cam3               0\n",
      "cam4               0\n",
      "idBrand            0\n",
      "dtype: int64\n",
      "Price\n",
      "199     28\n",
      "279     24\n",
      "179     22\n",
      "299     21\n",
      "399     21\n",
      "149     20\n",
      "249     20\n",
      "699     19\n",
      "329     17\n",
      "449     16\n",
      "799     14\n",
      "999     12\n",
      "229     11\n",
      "139     10\n",
      "499      9\n",
      "1199     8\n",
      "99       8\n",
      "269      7\n",
      "219      7\n",
      "169      7\n",
      "1099     7\n",
      "159      7\n",
      "189      7\n",
      "599      7\n",
      "349      7\n",
      "239      6\n",
      "129      5\n",
      "899      5\n",
      "369      4\n",
      "749      4\n",
      "429      4\n",
      "319      4\n",
      "119      3\n",
      "1299     3\n",
      "549      3\n",
      "969      2\n",
      "289      2\n",
      "469      2\n",
      "1399     2\n",
      "649      2\n",
      "729      2\n",
      "379      2\n",
      "209      2\n",
      "419      1\n",
      "1999     1\n",
      "130      1\n",
      "339      1\n",
      "459      1\n",
      "849      1\n",
      "309      1\n",
      "389      1\n",
      "109      1\n",
      "359      1\n",
      "659      1\n",
      "529      1\n",
      "259      1\n",
      "1049     1\n",
      "Name: count, dtype: int64\n"
     ]
    },
    {
     "data": {
      "image/png": "[encoded data removed]",
      "text/plain": [
       "<Figure size 800x600 with 1 Axes>"
      ]
     },
     "metadata": {},
     "output_type": "display_data"
    }
   ],
   "source": [
    "# EDA\n",
    "\n",
    "print(df.info())\n",
    "\n",
    "print(df.describe())\n",
    "\n",
    "print(df.isnull().sum())\n",
    "\n",
    "print(df['Price'].value_counts())\n",
    "\n",
    "import matplotlib.pyplot as plt\n",
    "\n",
    "plt.figure(figsize=(8, 6))\n",
    "plt.hist(df['Price'], bins=30, color='skyblue')\n",
    "plt.title('Distribusi Harga Ponsel')\n",
    "plt.xlabel('Harga')\n",
    "plt.ylabel('Frekuensi')\n",
    "plt.show()\n"
   ]
  },
  {
   "cell_type": "code",
   "execution_count": 84,
   "id": "7ea15e52",
   "metadata": {},
   "outputs": [
    {
     "name": "stdout",
     "output_type": "stream",
     "text": [
      "     Brand              Model  BatteryCapacity  Price  ScreenSize       RAM  \\\n",
      "0    apple      iphone 13 pro        -1.986246    999   -1.154384  0.066761   \n",
      "1  samsung   galaxy s21 ultra         0.406327   1199    1.019337  2.536923   \n",
      "2  oneplus              9 pro        -0.221645    899    0.708805  0.890149   \n",
      "3   xiaomi  redmi note 10 pro         0.431446    279    0.615646  0.066761   \n",
      "4   google            pixel 6        -0.078467    799   -0.222789  0.890149   \n",
      "\n",
      "    Storage  JumlahKamera      cam1      cam2      cam3      cam4  idBrand  \n",
      "0  0.076342     -0.184798 -1.271147  0.282830  1.706949 -0.572702       11  \n",
      "1  2.049114      1.089994  2.625162  0.086024  1.298525  6.414754       16  \n",
      "2  0.076342      1.089994  0.189969  4.022143  0.890102  0.591874        8  \n",
      "3  0.076342      1.089994  0.839354 -0.110782  0.277467  0.591874       15  \n",
      "4  0.076342     -1.459589  0.271142  0.302511 -0.743591 -0.572702        6  \n"
     ]
    }
   ],
   "source": [
    "#SCALING DATA\n",
    "\n",
    "from sklearn.preprocessing import StandardScaler\n",
    "\n",
    "numerical_features = ['BatteryCapacity', 'ScreenSize', 'RAM', 'Storage', 'JumlahKamera', 'cam1', 'cam2', 'cam3', 'cam4']\n",
    "\n",
    "scaler = StandardScaler()\n",
    "\n",
    "df[numerical_features] = scaler.fit_transform(df[numerical_features])\n",
    "\n",
    "print(df.head())\n"
   ]
  },
  {
   "cell_type": "code",
   "execution_count": 85,
   "id": "c607b303",
   "metadata": {},
   "outputs": [
    {
     "name": "stdout",
     "output_type": "stream",
     "text": [
      "   BatteryCapacity  Price       RAM   Storage  JumlahKamera      cam1  \\\n",
      "0        -1.986246    999  0.066761  0.076342     -0.184798 -1.271147   \n",
      "1         0.406327   1199  2.536923  2.049114      1.089994  2.625162   \n",
      "2        -0.221645    899  0.890149  0.076342      1.089994  0.189969   \n",
      "3         0.431446    279  0.066761  0.076342      1.089994  0.839354   \n",
      "4        -0.078467    799  0.890149  0.076342     -1.459589  0.271142   \n",
      "\n",
      "       cam2      cam3      cam4  \n",
      "0  0.282830  1.706949 -0.572702  \n",
      "1  0.086024  1.298525  6.414754  \n",
      "2  4.022143  0.890102  0.591874  \n",
      "3 -0.110782  0.277467  0.591874  \n",
      "4  0.302511 -0.743591 -0.572702  \n"
     ]
    }
   ],
   "source": [
    "# FEATURE SELECTION\n",
    "\n",
    "unused_columns = ['Brand', 'ScreenSize' , 'Model', 'idBrand']\n",
    "\n",
    "df = df.drop(unused_columns, axis=1)\n",
    "\n",
    "print(df.head())\n"
   ]
  },
  {
   "cell_type": "code",
   "execution_count": 87,
   "id": "9222da4c",
   "metadata": {},
   "outputs": [
    {
     "name": "stdout",
     "output_type": "stream",
     "text": [
      "Jumlah data pada X_train: 325\n",
      "Jumlah data pada X_test: 82\n",
      "Jumlah data pada y_train: 325\n",
      "Jumlah data pada y_test: 82\n"
     ]
    }
   ],
   "source": [
    "#SPLIT TRAINTEST\n",
    "\n",
    "from sklearn.model_selection import train_test_split\n",
    "\n",
    "X = df.drop('Price', axis=1)  \n",
    "y = df['Price']  \n",
    "\n",
    "X_train, X_test, y_train, y_test = train_test_split(X, y, test_size=0.2, random_state=42)\n",
    "\n",
    "print(\"Jumlah data pada X_train:\", len(X_train))\n",
    "print(\"Jumlah data pada X_test:\", len(X_test))\n",
    "print(\"Jumlah data pada y_train:\", len(y_train))\n",
    "print(\"Jumlah data pada y_test:\", len(y_test))"
   ]
  },
  {
   "cell_type": "code",
   "execution_count": 89,
   "id": "cee99583",
   "metadata": {},
   "outputs": [
    {
     "name": "stdout",
     "output_type": "stream",
     "text": [
      "Hasil K-Fold Cross-Validation untuk 5 fold:\n",
      "[0.82598254 0.82037696 0.57160887 0.73113786 0.78352807]\n",
      "Rata-rata Score Cross-Validation: 0.7465\n"
     ]
    }
   ],
   "source": [
    "#CROSS VALIDATION\n",
    "\n",
    "from sklearn.model_selection import cross_val_score\n",
    "from sklearn.linear_model import LinearRegression  \n",
    "\n",
    "model = LinearRegression()  \n",
    "\n",
    "num_folds = 5\n",
    "cross_val_scores = cross_val_score(model, X_train, y_train, cv=num_folds, scoring='r2')\n",
    "\n",
    "print(f\"Hasil K-Fold Cross-Validation untuk {num_folds} fold:\")\n",
    "print(cross_val_scores)\n",
    "print(f\"Rata-rata Score Cross-Validation: {cross_val_scores.mean():.4f}\")"
   ]
  },
  {
   "cell_type": "code",
   "execution_count": 91,
   "id": "645d570a",
   "metadata": {},
   "outputs": [
    {
     "data": {
      "image/png": "[encoded data removed]",
      "text/plain": [
       "<Figure size 800x600 with 2 Axes>"
      ]
     },
     "metadata": {},
     "output_type": "display_data"
    },
    {
     "name": "stdout",
     "output_type": "stream",
     "text": [
      "Confusion Matrix:\n",
      "[[0 0 0 ... 0 0 0]\n",
      " [0 0 0 ... 0 0 0]\n",
      " [0 0 0 ... 0 0 0]\n",
      " ...\n",
      " [0 0 0 ... 0 0 1]\n",
      " [0 0 0 ... 0 0 0]\n",
      " [0 0 0 ... 0 0 0]]\n",
      "RMSE: 120.3809\n",
      "R-squared: 0.8414\n"
     ]
    }
   ],
   "source": [
    "#PERFORMANCE EVALUATION\n",
    "\n",
    "from sklearn.metrics import confusion_matrix, mean_squared_error, r2_score\n",
    "from sklearn.tree import DecisionTreeRegressor \n",
    "import numpy as np\n",
    "import matplotlib.pyplot as plt\n",
    "import seaborn as sns\n",
    "from sklearn.tree import DecisionTreeRegressor\n",
    "from sklearn.model_selection import train_test_split\n",
    "\n",
    "def plot_confusion_matrix(cm, classes):\n",
    "    plt.figure(figsize=(8, 6))\n",
    "    sns.heatmap(cm, annot=True, fmt=\"d\", cmap='Blues', xticklabels=classes, yticklabels=classes)\n",
    "    plt.xlabel('Predicted Label')\n",
    "    plt.ylabel('True Label')\n",
    "    plt.title('Confusion Matrix')\n",
    "    plt.show()\n",
    "\n",
    "model = DecisionTreeRegressor()\n",
    "model.fit(X_train, y_train)\n",
    "y_pred = model.predict(X_test)\n",
    "\n",
    "cm = confusion_matrix(y_test, y_pred.round()) \n",
    "\n",
    "plot_confusion_matrix(cm, classes=['Class 1', 'Class 2', 'Class 3'])\n",
    "\n",
    "model = DecisionTreeRegressor()  \n",
    "\n",
    "model.fit(X_train, y_train)\n",
    "\n",
    "y_pred = model.predict(X_test)\n",
    "\n",
    "cm = confusion_matrix(y_test, y_pred.round())\n",
    "print(\"Confusion Matrix:\")\n",
    "print(cm)\n",
    "\n",
    "rmse = np.sqrt(mean_squared_error(y_test, y_pred))\n",
    "print(f\"RMSE: {rmse:.4f}\")\n",
    "\n",
    "r_squared = r2_score(y_test, y_pred)\n",
    "print(f\"R-squared: {r_squared:.4f}\")"
   ]
  }
 ],
 "metadata": {
  "kernelspec": {
   "display_name": "Python 3 (ipykernel)",
   "language": "python",
   "name": "python3"
  },
  "language_info": {
   "codemirror_mode": {
    "name": "ipython",
    "version": 3
   },
   "file_extension": ".py",
   "mimetype": "text/x-python",
   "name": "python",
   "nbconvert_exporter": "python",
   "pygments_lexer": "ipython3",
   "version": "3.11.7"
  }
 },
 "nbformat": 4,
 "nbformat_minor": 5
}
